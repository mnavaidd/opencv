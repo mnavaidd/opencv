{
 "cells": [
  {
   "cell_type": "markdown",
   "metadata": {},
   "source": [
    "# OpenCV Tutorial 1\n",
    "# Loading & displaying Image from disk"
   ]
  },
  {
   "cell_type": "code",
   "execution_count": 1,
   "metadata": {},
   "outputs": [],
   "source": [
    "#import\n",
    "import cv2\n",
    "\n",
    "#how to load an image\n",
    "img = cv2.imread('party.jpg')\n",
    "#show image\n",
    "cv2.imshow(\"Image\", img)\n",
    "\n",
    "#wait for key press\n",
    "cv2.waitKey(0)\n",
    "#destroy all image windows\n",
    "cv2.destroyAllWindows()"
   ]
  },
  {
   "cell_type": "code",
   "execution_count": 3,
   "metadata": {},
   "outputs": [],
   "source": [
    "# Load an color image in grayscale\n",
    "img = cv2.imread('party.jpg',0) #default is 1 for color image\n",
    "cv2.imshow('image',img)\n",
    "cv2.waitKey(0)\n",
    "cv2.destroyAllWindows()"
   ]
  },
  {
   "cell_type": "markdown",
   "metadata": {},
   "source": [
    "# Resized Window"
   ]
  },
  {
   "cell_type": "code",
   "execution_count": 4,
   "metadata": {},
   "outputs": [],
   "source": [
    "# Load an color image in grayscale\n",
    "img = cv2.imread('party.jpg',0)\n",
    "cv2.namedWindow('image2', cv2.WINDOW_NORMAL)\n",
    "cv2.imshow('image2',img)\n",
    "cv2.waitKey(0)\n",
    "cv2.destroyAllWindows()"
   ]
  },
  {
   "cell_type": "markdown",
   "metadata": {},
   "source": [
    "## Writing /Saving Images and Conditional exit"
   ]
  },
  {
   "cell_type": "code",
   "execution_count": 5,
   "metadata": {},
   "outputs": [],
   "source": [
    "import numpy as np\n",
    "import cv2\n",
    "\n",
    "img = cv2.imread('party.jpg',0)\n",
    "cv2.imshow('image',img)\n",
    "k = cv2.waitKey(0)\n",
    "\n",
    "if k == ord('s'): # wait for 's' key to save and exit\n",
    "    cv2.imwrite('media/M1/partygrey.png',img)\n",
    "    cv2.destroyAllWindows()\n",
    "else:         # wait for ESC key to exit\n",
    "    cv2.destroyAllWindows()"
   ]
  },
  {
   "cell_type": "markdown",
   "metadata": {},
   "source": [
    "# Using Matplotlib"
   ]
  },
  {
   "cell_type": "code",
   "execution_count": 6,
   "metadata": {},
   "outputs": [
    {
     "data": {
      "text/plain": [
       "<Figure size 640x480 with 1 Axes>"
      ]
     },
     "metadata": {},
     "output_type": "display_data"
    }
   ],
   "source": [
    "#Note: The code in this cell should be run in a simlpe python IDLE or saved as .py file and then run from comand line to be \n",
    "#fully effective\n",
    "\n",
    "\n",
    "#Note showen how to call this from cmd\n",
    "\n",
    "import numpy as np\n",
    "import cv2\n",
    "from matplotlib import pyplot as plt\n",
    "\n",
    "\n",
    "# NOTE: Only use the following line if u run in jupyter IDE\n",
    "#%matplotlib inline \n",
    "\n",
    "img = cv2.imread('party.jpg',0)\n",
    "#img = cv2.imread('media/M1/party.jpg',1)\n",
    "\n",
    "#rgbimage = cv2.cvtColor(img, cv2.COLOR_BGR2RGB)\n",
    "\n",
    "plt.imshow(img ,cmap = 'gray', interpolation = 'bicubic')\n",
    "\n",
    "#plt.imshow(rgbimage, interpolation = 'bicubic') \n",
    "\n",
    "#plt.xticks([]), plt.yticks([])  # to hide tick values on X and Y axis\n",
    "plt.show()"
   ]
  },
  {
   "cell_type": "markdown",
   "metadata": {},
   "source": [
    "# Drawing Shapes & Text on Images"
   ]
  },
  {
   "cell_type": "code",
   "execution_count": 2,
   "metadata": {},
   "outputs": [],
   "source": [
    "import cv2\n",
    "import numpy as np\n",
    "img = cv2.imread('party.jpg',1)\n",
    "\n",
    "#The cv2.line() takes the following parameters: where, start coordinates, end coordinates, color (bgr), line thickness.\n",
    "cv2.line(img,(100,300),(200,50),(255,255,255),10)\n",
    "\n",
    "#The parameters here are the image/frame, the center of the circle, the radius, color, and then thickness.\n",
    "#Notice we have a -1 for thickness. This means the object will actually be filled in,so we will get a filled in circle.\n",
    "cv2.circle(img,(100,63), 55, (0,255,0), -1)\n",
    "\n",
    "\n",
    "#rectangle  , you pass in the co ordinates of the two diagonal corners \n",
    "cv2.rectangle(img,(384,0),(510,228),(0,255,0),3)\n",
    "\n",
    "\n",
    "#First, we name pts, short for points, as a numpy array of coordinates. Then, we use cv2.polylines to draw the lines.\n",
    "#The parameters are as follows: where is the object being drawn to, the coordinates,\n",
    "#should we \"connect\" the final and starting dot, the color, and again the thickness\n",
    "#Note If third argument is False, you will get a polylines joining all the points, not a closed shape.\n",
    "\n",
    "pts = np.array([[10,5],[20,30],[70,20],[50,10]])\n",
    "cv2.polylines(img, [pts], True, (255,0,255), 3)\n",
    "    \n",
    "\n",
    "font = cv2.FONT_HERSHEY_SIMPLEX\n",
    "cv2.putText(img,'Bleeed-AI',(0,130), font, 1.2, (0,0,155), 2, cv2.LINE_AA)\n",
    "#1st val is line size and 2nd val is thickness\n",
    "\n",
    "\n",
    "cv2.imshow('image',img)\n",
    "cv2.waitKey(0)\n",
    "cv2.destroyAllWindows()\n"
   ]
  },
  {
   "cell_type": "markdown",
   "metadata": {},
   "source": [
    "## Playing Video from disk in greyscale And playing in Slow Motion/fast Forward"
   ]
  },
  {
   "cell_type": "code",
   "execution_count": 3,
   "metadata": {},
   "outputs": [],
   "source": [
    "import numpy as np\n",
    "import cv2\n",
    "\n",
    "cap = cv2.VideoCapture('vtest.avi')\n",
    "\n",
    "if not cap.isOpened():\n",
    "    cap.Open()\n",
    "    \n",
    "while(1):\n",
    "    ret, frame = cap.read()      # \"Ret\" will obtain return value from getting the camera frame, either true of false.\n",
    "    if not ret:\n",
    "        break\n",
    "    \n",
    "    gray = cv2.cvtColor(frame, cv2.COLOR_BGR2GRAY)\n",
    "\n",
    "    cv2.imshow('frame',gray)\n",
    "    if cv2.waitKey(1) & 0xFF == ord('q'):\n",
    "        break\n",
    "\n",
    "cap.release()\n",
    "cv2.destroyAllWindows()"
   ]
  },
  {
   "cell_type": "code",
   "execution_count": null,
   "metadata": {},
   "outputs": [],
   "source": [
    "cv2.destroyAllWindows()"
   ]
  },
  {
   "cell_type": "markdown",
   "metadata": {},
   "source": [
    "# Taking In Live Streams"
   ]
  },
  {
   "cell_type": "code",
   "execution_count": 4,
   "metadata": {},
   "outputs": [],
   "source": [
    "try:\n",
    "    cam.release()\n",
    "except: \n",
    "    pass\n",
    "\n",
    "import cv2\n",
    "\n",
    "cam = cv2.VideoCapture(0)      # Capture frame-by-frame\n",
    "\n",
    "while (True):\n",
    "  ret ,frame = cam.read()   \n",
    "  if not ret:\n",
    "        break\n",
    "#      frame = cv2.flip( frame, 1 )     # add this\n",
    "\n",
    "  cv2.imshow(\"img\",frame)      # Display the resulting frame\n",
    "\n",
    "  if cv2.waitKey(1)  & 0xFF ==ord('q'):  \n",
    "      break\n",
    "\n",
    "  if cv2.waitKey(1)  & 0xFF ==ord('s'):\n",
    "      cv2.imwrite('mysavedpicc.jpg',frame)\n",
    "\n",
    "      #cv2.imshow(\"Saved image\",frame)\n",
    "      #if cv2.waitKey(0)  & 0xFF ==ord('q'):  \n",
    "      #  break\n",
    "           \n",
    "          \n",
    "#release capture when all done      \n",
    "cam.release()\n",
    "cv2.destroyAllWindows()   "
   ]
  },
  {
   "cell_type": "markdown",
   "metadata": {},
   "source": [
    "# Saving Livestream as a clip and performing Operations"
   ]
  },
  {
   "cell_type": "code",
   "execution_count": 5,
   "metadata": {},
   "outputs": [],
   "source": [
    "import numpy as np\n",
    "import cv2\n",
    "\n",
    "cap = cv2.VideoCapture(0)\n",
    "\n",
    "# Define the codec and create VideoWriter object\n",
    "fourcc = cv2.VideoWriter_fourcc(*'XVID')\n",
    "out = cv2.VideoWriter(r'media/M1/mysavedmovie1.mp4',fourcc, 20.0, (640,480))\n",
    "\n",
    "while(cap.isOpened()):\n",
    "    ret, frame = cap.read()\n",
    "    if ret:\n",
    "        \n",
    "        frame = cv2.flip(frame,1)#try 0\n",
    "\n",
    "        # write the flipped frame\n",
    "        out.write(frame)\n",
    "\n",
    "        cv2.imshow('frame',frame)\n",
    "        if cv2.waitKey(1) & 0xFF == ord('q'):\n",
    "            break\n",
    "    else:\n",
    "        break\n",
    "\n",
    "# Release everything if job is finished\n",
    "cap.release()\n",
    "out.release()\n",
    "cv2.destroyAllWindows()"
   ]
  },
  {
   "cell_type": "markdown",
   "metadata": {},
   "source": [
    "# Getting/Setting Video frame size"
   ]
  },
  {
   "cell_type": "code",
   "execution_count": null,
   "metadata": {},
   "outputs": [],
   "source": [
    "import numpy as np\n",
    "import cv2\n",
    "cap = cv2.VideoCapture(0)\n",
    "\n",
    "\n",
    "cap.set(3,320) # you cannot go above your camera resolution\n",
    "cap.set(4,240)  # also this will only work with standard sizes\n",
    "while(True):\n",
    "    if cap.isOpened():  # this is optional line\n",
    "        # Capture frame-by-frame\n",
    "        ret, frame = cap.read()\n",
    "\n",
    "        # Our operations on the frame come here\n",
    "        gray = cv2.cvtColor(frame, cv2.COLOR_BGR2GRAY)\n",
    "\n",
    "        # Display the resulting frame\n",
    "        cv2.imshow('frame',gray)\n",
    "        if cv2.waitKey(1) == ord('q'):\n",
    "            \n",
    "            print(cap.get(3))\n",
    "            print(cap.get(4))\n",
    "            \n",
    "            break\n",
    "    else:\n",
    "        cap.open()\n",
    "# When everything done, release the capture\n",
    "cap.release()\n",
    "cv2.destroyAllWindows()"
   ]
  },
  {
   "cell_type": "markdown",
   "metadata": {},
   "source": [
    "# Using Mouse Events & TrackBar\n",
    "\n",
    "#### First we create a mouse callback function which is executed when a mouse event take place. Mouse event can be anything related to mouse like left-button down, left-button up, left-button double-click etc. It gives us the coordinates (x,y) for every mouse event. With this event and location, we can do whatever we like. To list all available events available, run the following code in Python terminal:"
   ]
  },
  {
   "cell_type": "code",
   "execution_count": null,
   "metadata": {},
   "outputs": [],
   "source": [
    "#helper method to get list of opencv events\n",
    "import cv2\n",
    "events = [i for i in dir(cv2) if 'EVENT' in i]\n",
    "print(events) "
   ]
  },
  {
   "cell_type": "code",
   "execution_count": null,
   "metadata": {},
   "outputs": [],
   "source": [
    "import cv2\n",
    "import numpy as np\n",
    "\n",
    "\n",
    "def nothing(x):\n",
    "    pass\n",
    "\n",
    "# Create a named  window\n",
    "cv2.namedWindow('image')\n",
    "\n",
    "# create trackbars for radius change change\n",
    "cv2.createTrackbar('Radius','image',0,150,nothing) #name of trackbar, name of window, range, method\n",
    "\n",
    "#mouse callback function\n",
    "def draw_circle(event,x,y,flags,param):\n",
    "    if event == cv2.EVENT_LBUTTONDBLCLK:\n",
    "        cv2.circle(img,(x,y),radius,(255,0,0),-1)\n",
    "\n",
    "# Create a black image \n",
    "img = np.zeros((512,512,3), np.uint8)\n",
    "\n",
    "#attach mouse call back to a window and a method\n",
    "cv2.setMouseCallback('image',draw_circle)\n",
    "\n",
    "while True:\n",
    "    \n",
    "    cv2.imshow('image',img)\n",
    "    \n",
    "    radius = cv2.getTrackbarPos('Radius','image')\n",
    "\n",
    "    if cv2.waitKey(20) & 0xFF == 27:\n",
    "        break\n",
    "cv2.destroyAllWindows()"
   ]
  },
  {
   "cell_type": "code",
   "execution_count": null,
   "metadata": {},
   "outputs": [],
   "source": [
    "cv2.destroyAllWindows()"
   ]
  },
  {
   "cell_type": "code",
   "execution_count": null,
   "metadata": {},
   "outputs": [],
   "source": []
  }
 ],
 "metadata": {
  "kernelspec": {
   "display_name": "Python 3",
   "language": "python",
   "name": "python3"
  },
  "language_info": {
   "codemirror_mode": {
    "name": "ipython",
    "version": 3
   },
   "file_extension": ".py",
   "mimetype": "text/x-python",
   "name": "python",
   "nbconvert_exporter": "python",
   "pygments_lexer": "ipython3",
   "version": "3.6.7"
  }
 },
 "nbformat": 4,
 "nbformat_minor": 2
}
